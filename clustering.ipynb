{
 "cells": [
  {
   "cell_type": "code",
   "execution_count": 266,
   "id": "4d8c4da2-743d-407c-8d0a-ea2f4980cafc",
   "metadata": {},
   "outputs": [],
   "source": [
    "# Date: 9/6/2024\n",
    "# this file is to run KMeans clustering and generate plots to compare the number of actual labels within each cluster.\n",
    "# the datasets should be located in the same directory.\n"
   ]
  },
  {
   "cell_type": "code",
   "execution_count": 267,
   "id": "80bbe05f-1547-4dff-aca8-ea2ebb60191f",
   "metadata": {},
   "outputs": [],
   "source": [
    "import glob\n",
    "import os\n",
    "import pandas as pd\n",
    "import numpy as np\n",
    "import random\n",
    "import pickle\n",
    "import csv\n",
    "from sklearn.cluster import KMeans\n",
    "import matplotlib.pyplot as plt\n",
    "\n",
    "np.random.seed(42)\n",
    "random.seed(42)\n"
   ]
  },
  {
   "cell_type": "code",
   "execution_count": 268,
   "id": "b8ebc80d-93f4-4822-87be-e9074cab3b31",
   "metadata": {},
   "outputs": [],
   "source": [
    "# load the dataset\n",
    "def read_data(file_name, target_class):\n",
    "    # Read the first row of the file to know the number of columns\n",
    "    first_row = pd.read_csv(file_name, nrows=1, index_col=0)\n",
    "    num_columns = len(first_row.columns)\n",
    "    \n",
    "    # Read the data into pandas df, set appropriate column names, and drop the first index column\n",
    "    data = pd.read_csv(file_name, names=[f\"c{i+1}\" if i < 4 else f\"x{i-3}\" for i in range(num_columns)],index_col=0)\n",
    "    \n",
    "    # For classification labels 'c2', 'c3', 'c4', replace all values greater than 0 with 1\n",
    "    for label in [\"c2\", \"c3\", \"c4\"]:\n",
    "        data[label] = data[label].apply(lambda x: 1 if x > 0 else 0)\n",
    "    \n",
    "    # prepare data without any labels\n",
    "    data_wo_label = data.drop(columns=[\"c1\", \"c2\", \"c3\", \"c4\"])\n",
    "   \n",
    "    if target_class == 'c2':\n",
    "        c2_data = data.drop(columns=[\"c1\", \"c3\", \"c4\"])\n",
    "        #print(c2_data)\n",
    "            \n",
    "        return c2_data, data_wo_label\n",
    "            \n",
    "    elif target_class == 'c3':\n",
    "        c3_data = data.drop(columns=[\"c1\", \"c2\", \"c4\"])\n",
    "        #print(c3_data)\n",
    "        \n",
    "        return c3_data, data_wo_label\n",
    "            \n",
    "    elif target_class == 'c4':\n",
    "        c4_data = data.drop(columns=[\"c1\", \"c2\", \"c3\"])\n",
    "        #print(c4_data)\n",
    "        \n",
    "        return c4_data, data_wo_label\n",
    "            \n",
    "    else:\n",
    "        raise ValueError(\"Invalid target_class. Expected 'c2', 'c3', or 'c4'.\")\n",
    "            "
   ]
  },
  {
   "cell_type": "code",
   "execution_count": 269,
   "id": "d255984f-1e6b-4116-9010-905a19d7123d",
   "metadata": {},
   "outputs": [],
   "source": [
    "# compute the kmeans and return the number of counted labels in each cluster\n",
    "def kmeans_compute(df_name, df_wo_label_name, col_name):\n",
    "    # use K-Means clustering\n",
    "    X = df_wo_label_name\n",
    "    kmeans = KMeans(n_clusters=2, random_state=0)\n",
    "    kmeans.fit(X)\n",
    "      \n",
    "    # extract the target label column\n",
    "    label = df_name[col_name]\n",
    "    \n",
    "    # add a new column named 'cluster' into the original df for the cluster labels from kmeans\n",
    "    df_name['cluster'] = kmeans.labels_\n",
    "    \n",
    "    # rename the 0 and 1 into 'cluster 1' and cluster 2', respectively\n",
    "    df_name['cluster'] = df_name['cluster'].replace({0: \"cluster 1\", 1: \"cluster 2\"})\n",
    "    \n",
    "    # group by clusters and count 0 and 1 in each cluster\n",
    "    cluster_label_counts = df_name.groupby(['cluster', label]).size().unstack(fill_value=0)\n",
    "    \n",
    "    # rename the 0 (good design) and 1 (bad design) labels into 'label 0' and 'label 1', respectively\n",
    "    cluster_label_counts = cluster_label_counts.rename(columns={0: \"label 0\", 1: \"label 1\"})\n",
    "    \n",
    "    return cluster_label_counts\n",
    "    \n"
   ]
  },
  {
   "cell_type": "code",
   "execution_count": 270,
   "id": "f50b1329-43e2-4edf-82fa-8a4762f55094",
   "metadata": {},
   "outputs": [],
   "source": [
    "# plot the kmeans results in a subplot\n",
    "def plot_kmeans_results(cluster_label_counts, title_name, ax):\n",
    "    # visualize the bar charts in the subplot axis\n",
    "    cluster_label_counts.plot(kind=\"bar\", color=[\"blue\", \"red\"], ax=ax)\n",
    "    ax.set_title(f'Count of Labels in Each Cluster ({title_name})')\n",
    "    ax.set_xlabel('Clusters')\n",
    "    ax.set_ylabel('Count')\n",
    "    ax.set_xticks(range(len(cluster_label_counts)))\n",
    "    ax.set_xticklabels(cluster_label_counts.index, rotation=0)\n",
    "    ax.legend(title='Actual Label')\n"
   ]
  },
  {
   "cell_type": "markdown",
   "id": "e22381b8-b5cd-40b2-9d5b-637ff7e900e9",
   "metadata": {},
   "source": [
    "# 1. C2"
   ]
  },
  {
   "cell_type": "markdown",
   "id": "5fbcd8f7-2476-4a67-886d-1a9ae41559a8",
   "metadata": {},
   "source": [
    "## 1-1. run1_data"
   ]
  },
  {
   "cell_type": "code",
   "execution_count": 271,
   "id": "b89e6365-2d67-4223-b0d3-94dd22b0e8f6",
   "metadata": {},
   "outputs": [],
   "source": [
    "run1_c2_data, run1_c2_data_wo_label = read_data('run1_data.csv', 'c2')"
   ]
  },
  {
   "cell_type": "code",
   "execution_count": 272,
   "id": "f1c489b9-54a3-4cb1-95e7-a5d8d0d2aa5d",
   "metadata": {},
   "outputs": [
    {
     "data": {
      "text/html": [
       "<div>\n",
       "<style scoped>\n",
       "    .dataframe tbody tr th:only-of-type {\n",
       "        vertical-align: middle;\n",
       "    }\n",
       "\n",
       "    .dataframe tbody tr th {\n",
       "        vertical-align: top;\n",
       "    }\n",
       "\n",
       "    .dataframe thead th {\n",
       "        text-align: right;\n",
       "    }\n",
       "</style>\n",
       "<table border=\"1\" class=\"dataframe\">\n",
       "  <thead>\n",
       "    <tr style=\"text-align: right;\">\n",
       "      <th>c2</th>\n",
       "      <th>label 0</th>\n",
       "      <th>label 1</th>\n",
       "    </tr>\n",
       "    <tr>\n",
       "      <th>cluster</th>\n",
       "      <th></th>\n",
       "      <th></th>\n",
       "    </tr>\n",
       "  </thead>\n",
       "  <tbody>\n",
       "    <tr>\n",
       "      <th>cluster 1</th>\n",
       "      <td>1452</td>\n",
       "      <td>377</td>\n",
       "    </tr>\n",
       "    <tr>\n",
       "      <th>cluster 2</th>\n",
       "      <td>132</td>\n",
       "      <td>539</td>\n",
       "    </tr>\n",
       "  </tbody>\n",
       "</table>\n",
       "</div>"
      ],
      "text/plain": [
       "c2         label 0  label 1\n",
       "cluster                    \n",
       "cluster 1     1452      377\n",
       "cluster 2      132      539"
      ]
     },
     "execution_count": 272,
     "metadata": {},
     "output_type": "execute_result"
    }
   ],
   "source": [
    "run1_c2_results = kmeans_compute(run1_c2_data, run1_c2_data_wo_label, 'c2')\n",
    "run1_c2_results"
   ]
  },
  {
   "cell_type": "markdown",
   "id": "ac9c3c9f-cd03-4b42-86ea-8d29527e867e",
   "metadata": {},
   "source": [
    "## 1-2. run2_data"
   ]
  },
  {
   "cell_type": "code",
   "execution_count": 273,
   "id": "9cd749ee-bc43-4ac6-8062-4d1b97a8461d",
   "metadata": {},
   "outputs": [],
   "source": [
    "run2_c2_data, run2_c2_data_wo_label = read_data('run2_data.csv', 'c2')"
   ]
  },
  {
   "cell_type": "code",
   "execution_count": 274,
   "id": "f036d3fa-32e5-4f93-8a7e-194eb7f624e5",
   "metadata": {},
   "outputs": [
    {
     "data": {
      "text/html": [
       "<div>\n",
       "<style scoped>\n",
       "    .dataframe tbody tr th:only-of-type {\n",
       "        vertical-align: middle;\n",
       "    }\n",
       "\n",
       "    .dataframe tbody tr th {\n",
       "        vertical-align: top;\n",
       "    }\n",
       "\n",
       "    .dataframe thead th {\n",
       "        text-align: right;\n",
       "    }\n",
       "</style>\n",
       "<table border=\"1\" class=\"dataframe\">\n",
       "  <thead>\n",
       "    <tr style=\"text-align: right;\">\n",
       "      <th>c2</th>\n",
       "      <th>label 0</th>\n",
       "      <th>label 1</th>\n",
       "    </tr>\n",
       "    <tr>\n",
       "      <th>cluster</th>\n",
       "      <th></th>\n",
       "      <th></th>\n",
       "    </tr>\n",
       "  </thead>\n",
       "  <tbody>\n",
       "    <tr>\n",
       "      <th>cluster 1</th>\n",
       "      <td>1619</td>\n",
       "      <td>448</td>\n",
       "    </tr>\n",
       "    <tr>\n",
       "      <th>cluster 2</th>\n",
       "      <td>19</td>\n",
       "      <td>414</td>\n",
       "    </tr>\n",
       "  </tbody>\n",
       "</table>\n",
       "</div>"
      ],
      "text/plain": [
       "c2         label 0  label 1\n",
       "cluster                    \n",
       "cluster 1     1619      448\n",
       "cluster 2       19      414"
      ]
     },
     "execution_count": 274,
     "metadata": {},
     "output_type": "execute_result"
    }
   ],
   "source": [
    "run2_c2_results = kmeans_compute(run2_c2_data, run2_c2_data_wo_label, 'c2')\n",
    "run2_c2_results"
   ]
  },
  {
   "cell_type": "markdown",
   "id": "e3e01cce-250b-4f5f-8193-c8ee9ddb5023",
   "metadata": {},
   "source": [
    "## 1-3. run3_data"
   ]
  },
  {
   "cell_type": "code",
   "execution_count": 275,
   "id": "24271dff-b189-4c5c-ace4-72c13b80ac56",
   "metadata": {},
   "outputs": [],
   "source": [
    "run3_c2_data, run3_c2_data_wo_label = read_data('run3_data.csv', 'c2')"
   ]
  },
  {
   "cell_type": "code",
   "execution_count": 276,
   "id": "134fe9ab-33eb-471b-8710-77c682e17d62",
   "metadata": {},
   "outputs": [
    {
     "data": {
      "text/html": [
       "<div>\n",
       "<style scoped>\n",
       "    .dataframe tbody tr th:only-of-type {\n",
       "        vertical-align: middle;\n",
       "    }\n",
       "\n",
       "    .dataframe tbody tr th {\n",
       "        vertical-align: top;\n",
       "    }\n",
       "\n",
       "    .dataframe thead th {\n",
       "        text-align: right;\n",
       "    }\n",
       "</style>\n",
       "<table border=\"1\" class=\"dataframe\">\n",
       "  <thead>\n",
       "    <tr style=\"text-align: right;\">\n",
       "      <th>c2</th>\n",
       "      <th>label 0</th>\n",
       "      <th>label 1</th>\n",
       "    </tr>\n",
       "    <tr>\n",
       "      <th>cluster</th>\n",
       "      <th></th>\n",
       "      <th></th>\n",
       "    </tr>\n",
       "  </thead>\n",
       "  <tbody>\n",
       "    <tr>\n",
       "      <th>cluster 1</th>\n",
       "      <td>1601</td>\n",
       "      <td>298</td>\n",
       "    </tr>\n",
       "    <tr>\n",
       "      <th>cluster 2</th>\n",
       "      <td>37</td>\n",
       "      <td>564</td>\n",
       "    </tr>\n",
       "  </tbody>\n",
       "</table>\n",
       "</div>"
      ],
      "text/plain": [
       "c2         label 0  label 1\n",
       "cluster                    \n",
       "cluster 1     1601      298\n",
       "cluster 2       37      564"
      ]
     },
     "execution_count": 276,
     "metadata": {},
     "output_type": "execute_result"
    }
   ],
   "source": [
    "run3_c2_results = kmeans_compute(run3_c2_data, run3_c2_data_wo_label, 'c2')\n",
    "run3_c2_results"
   ]
  },
  {
   "cell_type": "markdown",
   "id": "a01a6dd6-0ab3-480a-8fc1-d2ea76d1cf35",
   "metadata": {},
   "source": [
    "## 1-4. run4_data"
   ]
  },
  {
   "cell_type": "code",
   "execution_count": 277,
   "id": "8636cdbc-9394-467d-8f0b-7173e96f8245",
   "metadata": {},
   "outputs": [],
   "source": [
    "run4_c2_data, run4_c2_data_wo_label = read_data('run4_data.csv', 'c2')"
   ]
  },
  {
   "cell_type": "code",
   "execution_count": 278,
   "id": "0ecfaafe-6cc3-45a7-8ae2-175229e40de1",
   "metadata": {},
   "outputs": [
    {
     "data": {
      "text/html": [
       "<div>\n",
       "<style scoped>\n",
       "    .dataframe tbody tr th:only-of-type {\n",
       "        vertical-align: middle;\n",
       "    }\n",
       "\n",
       "    .dataframe tbody tr th {\n",
       "        vertical-align: top;\n",
       "    }\n",
       "\n",
       "    .dataframe thead th {\n",
       "        text-align: right;\n",
       "    }\n",
       "</style>\n",
       "<table border=\"1\" class=\"dataframe\">\n",
       "  <thead>\n",
       "    <tr style=\"text-align: right;\">\n",
       "      <th>c2</th>\n",
       "      <th>label 0</th>\n",
       "      <th>label 1</th>\n",
       "    </tr>\n",
       "    <tr>\n",
       "      <th>cluster</th>\n",
       "      <th></th>\n",
       "      <th></th>\n",
       "    </tr>\n",
       "  </thead>\n",
       "  <tbody>\n",
       "    <tr>\n",
       "      <th>cluster 1</th>\n",
       "      <td>1364</td>\n",
       "      <td>627</td>\n",
       "    </tr>\n",
       "    <tr>\n",
       "      <th>cluster 2</th>\n",
       "      <td>3</td>\n",
       "      <td>506</td>\n",
       "    </tr>\n",
       "  </tbody>\n",
       "</table>\n",
       "</div>"
      ],
      "text/plain": [
       "c2         label 0  label 1\n",
       "cluster                    \n",
       "cluster 1     1364      627\n",
       "cluster 2        3      506"
      ]
     },
     "execution_count": 278,
     "metadata": {},
     "output_type": "execute_result"
    }
   ],
   "source": [
    "run4_c2_results = kmeans_compute(run4_c2_data, run4_c2_data_wo_label, 'c2')\n",
    "run4_c2_results"
   ]
  },
  {
   "cell_type": "markdown",
   "id": "f9be5e3b-8c49-4b81-8ea4-ea4b627414d0",
   "metadata": {},
   "source": [
    "## Display bar charts for each dataset in regards to c2"
   ]
  },
  {
   "cell_type": "code",
   "execution_count": 279,
   "id": "b78581f5-7606-4745-bf4f-e17ba457a16d",
   "metadata": {},
   "outputs": [
    {
     "data": {
      "image/png": "[encoded data removed]",
      "text/plain": [
       "<Figure size 1000x800 with 4 Axes>"
      ]
     },
     "metadata": {},
     "output_type": "display_data"
    }
   ],
   "source": [
    "# create a 2*2 figure for the subplots\n",
    "fig, axes= plt.subplots(2,2, figsize=(10,8))\n",
    "plot_kmeans_results(run1_c2_results, 'run1_c2', axes[0,0])\n",
    "plot_kmeans_results(run2_c2_results, 'run2_c2', axes[0,1])\n",
    "plot_kmeans_results(run3_c2_results, 'run3_c2', axes[1,0])\n",
    "plot_kmeans_results(run4_c2_results, 'run4_c2', axes[1,1])\n",
    "plt.tight_layout()\n",
    "plt.show()"
   ]
  },
  {
   "cell_type": "code",
   "execution_count": null,
   "id": "fd185a63-da65-4972-bda0-1b931bc4756b",
   "metadata": {},
   "outputs": [],
   "source": []
  },
  {
   "cell_type": "markdown",
   "id": "4dbed5db-6ce2-47d1-8209-cc6934fc8a67",
   "metadata": {},
   "source": [
    "# 2. C3"
   ]
  },
  {
   "cell_type": "markdown",
   "id": "ba524d42-adc1-471c-8c3a-672ebbad63bb",
   "metadata": {},
   "source": [
    "## 2-1. run1_data"
   ]
  },
  {
   "cell_type": "code",
   "execution_count": 280,
   "id": "a43b9c7e-e0e2-45f4-9084-9819f76f0471",
   "metadata": {},
   "outputs": [],
   "source": [
    "run1_c3_data, run1_c3_data_wo_label = read_data('run1_data.csv', 'c3')"
   ]
  },
  {
   "cell_type": "code",
   "execution_count": 281,
   "id": "47ab0a7f-f5e8-4947-b5dc-ff24d7dcd0ba",
   "metadata": {},
   "outputs": [
    {
     "data": {
      "text/html": [
       "<div>\n",
       "<style scoped>\n",
       "    .dataframe tbody tr th:only-of-type {\n",
       "        vertical-align: middle;\n",
       "    }\n",
       "\n",
       "    .dataframe tbody tr th {\n",
       "        vertical-align: top;\n",
       "    }\n",
       "\n",
       "    .dataframe thead th {\n",
       "        text-align: right;\n",
       "    }\n",
       "</style>\n",
       "<table border=\"1\" class=\"dataframe\">\n",
       "  <thead>\n",
       "    <tr style=\"text-align: right;\">\n",
       "      <th>c3</th>\n",
       "      <th>label 0</th>\n",
       "      <th>label 1</th>\n",
       "    </tr>\n",
       "    <tr>\n",
       "      <th>cluster</th>\n",
       "      <th></th>\n",
       "      <th></th>\n",
       "    </tr>\n",
       "  </thead>\n",
       "  <tbody>\n",
       "    <tr>\n",
       "      <th>cluster 1</th>\n",
       "      <td>1450</td>\n",
       "      <td>379</td>\n",
       "    </tr>\n",
       "    <tr>\n",
       "      <th>cluster 2</th>\n",
       "      <td>111</td>\n",
       "      <td>560</td>\n",
       "    </tr>\n",
       "  </tbody>\n",
       "</table>\n",
       "</div>"
      ],
      "text/plain": [
       "c3         label 0  label 1\n",
       "cluster                    \n",
       "cluster 1     1450      379\n",
       "cluster 2      111      560"
      ]
     },
     "execution_count": 281,
     "metadata": {},
     "output_type": "execute_result"
    }
   ],
   "source": [
    "run1_c3_results = kmeans_compute(run1_c3_data, run1_c3_data_wo_label, 'c3')\n",
    "run1_c3_results"
   ]
  },
  {
   "cell_type": "markdown",
   "id": "1722eff1-faf2-4136-bcf6-2a6bc7b25bd9",
   "metadata": {},
   "source": [
    "## 2-2. run2_data"
   ]
  },
  {
   "cell_type": "code",
   "execution_count": 282,
   "id": "3bcc7125-accc-41e7-9cad-ebccd1f883b5",
   "metadata": {},
   "outputs": [],
   "source": [
    "run2_c3_data, run2_c3_data_wo_label = read_data('run2_data.csv', 'c3')"
   ]
  },
  {
   "cell_type": "code",
   "execution_count": 283,
   "id": "c261fb90-1ba2-4bbb-a634-46ca9fc65367",
   "metadata": {},
   "outputs": [
    {
     "data": {
      "text/html": [
       "<div>\n",
       "<style scoped>\n",
       "    .dataframe tbody tr th:only-of-type {\n",
       "        vertical-align: middle;\n",
       "    }\n",
       "\n",
       "    .dataframe tbody tr th {\n",
       "        vertical-align: top;\n",
       "    }\n",
       "\n",
       "    .dataframe thead th {\n",
       "        text-align: right;\n",
       "    }\n",
       "</style>\n",
       "<table border=\"1\" class=\"dataframe\">\n",
       "  <thead>\n",
       "    <tr style=\"text-align: right;\">\n",
       "      <th>c3</th>\n",
       "      <th>label 0</th>\n",
       "      <th>label 1</th>\n",
       "    </tr>\n",
       "    <tr>\n",
       "      <th>cluster</th>\n",
       "      <th></th>\n",
       "      <th></th>\n",
       "    </tr>\n",
       "  </thead>\n",
       "  <tbody>\n",
       "    <tr>\n",
       "      <th>cluster 1</th>\n",
       "      <td>1760</td>\n",
       "      <td>307</td>\n",
       "    </tr>\n",
       "    <tr>\n",
       "      <th>cluster 2</th>\n",
       "      <td>7</td>\n",
       "      <td>426</td>\n",
       "    </tr>\n",
       "  </tbody>\n",
       "</table>\n",
       "</div>"
      ],
      "text/plain": [
       "c3         label 0  label 1\n",
       "cluster                    \n",
       "cluster 1     1760      307\n",
       "cluster 2        7      426"
      ]
     },
     "execution_count": 283,
     "metadata": {},
     "output_type": "execute_result"
    }
   ],
   "source": [
    "run2_c3_results = kmeans_compute(run2_c3_data, run2_c3_data_wo_label, 'c3')\n",
    "run2_c3_results"
   ]
  },
  {
   "cell_type": "markdown",
   "id": "1272803a-cc68-4794-9adf-cbb4c49a2f6a",
   "metadata": {},
   "source": [
    "## 2-3. run3_data"
   ]
  },
  {
   "cell_type": "code",
   "execution_count": 284,
   "id": "97ffe048-a51c-4a3c-9710-0f2066302d8d",
   "metadata": {},
   "outputs": [],
   "source": [
    "run3_c3_data, run3_c3_data_wo_label = read_data('run3_data.csv', 'c3')"
   ]
  },
  {
   "cell_type": "code",
   "execution_count": 285,
   "id": "da830f19-693f-4b4c-ac23-f38a650f9246",
   "metadata": {},
   "outputs": [
    {
     "data": {
      "text/html": [
       "<div>\n",
       "<style scoped>\n",
       "    .dataframe tbody tr th:only-of-type {\n",
       "        vertical-align: middle;\n",
       "    }\n",
       "\n",
       "    .dataframe tbody tr th {\n",
       "        vertical-align: top;\n",
       "    }\n",
       "\n",
       "    .dataframe thead th {\n",
       "        text-align: right;\n",
       "    }\n",
       "</style>\n",
       "<table border=\"1\" class=\"dataframe\">\n",
       "  <thead>\n",
       "    <tr style=\"text-align: right;\">\n",
       "      <th>c3</th>\n",
       "      <th>label 0</th>\n",
       "      <th>label 1</th>\n",
       "    </tr>\n",
       "    <tr>\n",
       "      <th>cluster</th>\n",
       "      <th></th>\n",
       "      <th></th>\n",
       "    </tr>\n",
       "  </thead>\n",
       "  <tbody>\n",
       "    <tr>\n",
       "      <th>cluster 1</th>\n",
       "      <td>1390</td>\n",
       "      <td>509</td>\n",
       "    </tr>\n",
       "    <tr>\n",
       "      <th>cluster 2</th>\n",
       "      <td>11</td>\n",
       "      <td>590</td>\n",
       "    </tr>\n",
       "  </tbody>\n",
       "</table>\n",
       "</div>"
      ],
      "text/plain": [
       "c3         label 0  label 1\n",
       "cluster                    \n",
       "cluster 1     1390      509\n",
       "cluster 2       11      590"
      ]
     },
     "execution_count": 285,
     "metadata": {},
     "output_type": "execute_result"
    }
   ],
   "source": [
    "run3_c3_results = kmeans_compute(run3_c3_data, run3_c3_data_wo_label, 'c3')\n",
    "run3_c3_results"
   ]
  },
  {
   "cell_type": "markdown",
   "id": "45eb7fd3-6e65-48bd-9f79-ae05b7e27aa8",
   "metadata": {},
   "source": [
    "## 2-4. run4_data"
   ]
  },
  {
   "cell_type": "code",
   "execution_count": 286,
   "id": "bb35cb6b-94a4-4c9a-9863-4317ef6ad651",
   "metadata": {},
   "outputs": [],
   "source": [
    "run4_c3_data, run4_c3_data_wo_label = read_data('run4_data.csv', 'c3')"
   ]
  },
  {
   "cell_type": "code",
   "execution_count": 287,
   "id": "dd312da3-4bd3-43f8-b5c3-1e930efed15b",
   "metadata": {},
   "outputs": [
    {
     "data": {
      "text/html": [
       "<div>\n",
       "<style scoped>\n",
       "    .dataframe tbody tr th:only-of-type {\n",
       "        vertical-align: middle;\n",
       "    }\n",
       "\n",
       "    .dataframe tbody tr th {\n",
       "        vertical-align: top;\n",
       "    }\n",
       "\n",
       "    .dataframe thead th {\n",
       "        text-align: right;\n",
       "    }\n",
       "</style>\n",
       "<table border=\"1\" class=\"dataframe\">\n",
       "  <thead>\n",
       "    <tr style=\"text-align: right;\">\n",
       "      <th>c3</th>\n",
       "      <th>label 0</th>\n",
       "      <th>label 1</th>\n",
       "    </tr>\n",
       "    <tr>\n",
       "      <th>cluster</th>\n",
       "      <th></th>\n",
       "      <th></th>\n",
       "    </tr>\n",
       "  </thead>\n",
       "  <tbody>\n",
       "    <tr>\n",
       "      <th>cluster 1</th>\n",
       "      <td>1066</td>\n",
       "      <td>925</td>\n",
       "    </tr>\n",
       "    <tr>\n",
       "      <th>cluster 2</th>\n",
       "      <td>3</td>\n",
       "      <td>506</td>\n",
       "    </tr>\n",
       "  </tbody>\n",
       "</table>\n",
       "</div>"
      ],
      "text/plain": [
       "c3         label 0  label 1\n",
       "cluster                    \n",
       "cluster 1     1066      925\n",
       "cluster 2        3      506"
      ]
     },
     "execution_count": 287,
     "metadata": {},
     "output_type": "execute_result"
    }
   ],
   "source": [
    "run4_c3_results = kmeans_compute(run4_c3_data, run4_c3_data_wo_label, 'c3')\n",
    "run4_c3_results"
   ]
  },
  {
   "cell_type": "markdown",
   "id": "e3f194bb-49c6-4e1d-a13a-f31d28498825",
   "metadata": {},
   "source": [
    "## Display bar charts for each dataset in regards to c3"
   ]
  },
  {
   "cell_type": "code",
   "execution_count": 288,
   "id": "06005fe6-5e1f-40ec-994e-55191bdfc5f6",
   "metadata": {},
   "outputs": [
    {
     "data": {
      "image/png": "[encoded data removed]",
      "text/plain": [
       "<Figure size 1000x800 with 4 Axes>"
      ]
     },
     "metadata": {},
     "output_type": "display_data"
    }
   ],
   "source": [
    "# create a 2*2 figure for the subplots\n",
    "fig, axes= plt.subplots(2,2, figsize=(10,8))\n",
    "plot_kmeans_results(run1_c3_results, 'run1_c3', axes[0,0])\n",
    "plot_kmeans_results(run2_c3_results, 'run2_c3', axes[0,1])\n",
    "plot_kmeans_results(run3_c3_results, 'run3_c3', axes[1,0])\n",
    "plot_kmeans_results(run4_c3_results, 'run4_c3', axes[1,1])\n",
    "plt.tight_layout()\n",
    "plt.show()"
   ]
  },
  {
   "cell_type": "markdown",
   "id": "d986fda8-0cfd-4532-90b4-fb03696e4b94",
   "metadata": {},
   "source": [
    "# 3. C4"
   ]
  },
  {
   "cell_type": "markdown",
   "id": "13fc206e-1d36-4148-a68e-3bd0d8f54003",
   "metadata": {},
   "source": [
    "## 3-1. run1_data"
   ]
  },
  {
   "cell_type": "code",
   "execution_count": 289,
   "id": "0e50a128-b92d-4684-be29-ed90ebb5215b",
   "metadata": {},
   "outputs": [],
   "source": [
    "run1_c4_data, run1_c4_data_wo_label = read_data('run1_data.csv', 'c4')"
   ]
  },
  {
   "cell_type": "code",
   "execution_count": 290,
   "id": "b1bf0176-c4d8-4f8c-b35f-b27ce956e8b2",
   "metadata": {},
   "outputs": [
    {
     "data": {
      "text/html": [
       "<div>\n",
       "<style scoped>\n",
       "    .dataframe tbody tr th:only-of-type {\n",
       "        vertical-align: middle;\n",
       "    }\n",
       "\n",
       "    .dataframe tbody tr th {\n",
       "        vertical-align: top;\n",
       "    }\n",
       "\n",
       "    .dataframe thead th {\n",
       "        text-align: right;\n",
       "    }\n",
       "</style>\n",
       "<table border=\"1\" class=\"dataframe\">\n",
       "  <thead>\n",
       "    <tr style=\"text-align: right;\">\n",
       "      <th>c4</th>\n",
       "      <th>label 0</th>\n",
       "      <th>label 1</th>\n",
       "    </tr>\n",
       "    <tr>\n",
       "      <th>cluster</th>\n",
       "      <th></th>\n",
       "      <th></th>\n",
       "    </tr>\n",
       "  </thead>\n",
       "  <tbody>\n",
       "    <tr>\n",
       "      <th>cluster 1</th>\n",
       "      <td>1486</td>\n",
       "      <td>343</td>\n",
       "    </tr>\n",
       "    <tr>\n",
       "      <th>cluster 2</th>\n",
       "      <td>136</td>\n",
       "      <td>535</td>\n",
       "    </tr>\n",
       "  </tbody>\n",
       "</table>\n",
       "</div>"
      ],
      "text/plain": [
       "c4         label 0  label 1\n",
       "cluster                    \n",
       "cluster 1     1486      343\n",
       "cluster 2      136      535"
      ]
     },
     "execution_count": 290,
     "metadata": {},
     "output_type": "execute_result"
    }
   ],
   "source": [
    "run1_c4_results = kmeans_compute(run1_c4_data, run1_c4_data_wo_label, 'c4')\n",
    "run1_c4_results"
   ]
  },
  {
   "cell_type": "markdown",
   "id": "0a7367af-33e5-4321-9bd2-cac385a4ef3d",
   "metadata": {},
   "source": [
    "## 3-2. run2_data"
   ]
  },
  {
   "cell_type": "code",
   "execution_count": 291,
   "id": "be33b026-ccf5-493d-84fe-6aaed4ead69c",
   "metadata": {},
   "outputs": [],
   "source": [
    "run2_c4_data, run2_c4_data_wo_label = read_data('run2_data.csv', 'c4')"
   ]
  },
  {
   "cell_type": "code",
   "execution_count": 292,
   "id": "49929a80-1dbc-479f-8664-9145353a3deb",
   "metadata": {},
   "outputs": [
    {
     "data": {
      "text/html": [
       "<div>\n",
       "<style scoped>\n",
       "    .dataframe tbody tr th:only-of-type {\n",
       "        vertical-align: middle;\n",
       "    }\n",
       "\n",
       "    .dataframe tbody tr th {\n",
       "        vertical-align: top;\n",
       "    }\n",
       "\n",
       "    .dataframe thead th {\n",
       "        text-align: right;\n",
       "    }\n",
       "</style>\n",
       "<table border=\"1\" class=\"dataframe\">\n",
       "  <thead>\n",
       "    <tr style=\"text-align: right;\">\n",
       "      <th>c4</th>\n",
       "      <th>label 0</th>\n",
       "      <th>label 1</th>\n",
       "    </tr>\n",
       "    <tr>\n",
       "      <th>cluster</th>\n",
       "      <th></th>\n",
       "      <th></th>\n",
       "    </tr>\n",
       "  </thead>\n",
       "  <tbody>\n",
       "    <tr>\n",
       "      <th>cluster 1</th>\n",
       "      <td>1716</td>\n",
       "      <td>351</td>\n",
       "    </tr>\n",
       "    <tr>\n",
       "      <th>cluster 2</th>\n",
       "      <td>26</td>\n",
       "      <td>407</td>\n",
       "    </tr>\n",
       "  </tbody>\n",
       "</table>\n",
       "</div>"
      ],
      "text/plain": [
       "c4         label 0  label 1\n",
       "cluster                    \n",
       "cluster 1     1716      351\n",
       "cluster 2       26      407"
      ]
     },
     "execution_count": 292,
     "metadata": {},
     "output_type": "execute_result"
    }
   ],
   "source": [
    "run2_c4_results = kmeans_compute(run2_c4_data, run2_c4_data_wo_label, 'c4')\n",
    "run2_c4_results"
   ]
  },
  {
   "cell_type": "markdown",
   "id": "a7595607-413a-497a-9acb-3676c2be9d7f",
   "metadata": {},
   "source": [
    "## 3-3. run3_data"
   ]
  },
  {
   "cell_type": "code",
   "execution_count": 293,
   "id": "926e7a01-b06f-40f0-b0ea-c9e80dbe7b23",
   "metadata": {},
   "outputs": [],
   "source": [
    "run3_c4_data, run3_c4_data_wo_label = read_data('run3_data.csv', 'c4')"
   ]
  },
  {
   "cell_type": "code",
   "execution_count": 294,
   "id": "3f5d8e8d-f735-499a-a68b-5c015561f96d",
   "metadata": {},
   "outputs": [
    {
     "data": {
      "text/html": [
       "<div>\n",
       "<style scoped>\n",
       "    .dataframe tbody tr th:only-of-type {\n",
       "        vertical-align: middle;\n",
       "    }\n",
       "\n",
       "    .dataframe tbody tr th {\n",
       "        vertical-align: top;\n",
       "    }\n",
       "\n",
       "    .dataframe thead th {\n",
       "        text-align: right;\n",
       "    }\n",
       "</style>\n",
       "<table border=\"1\" class=\"dataframe\">\n",
       "  <thead>\n",
       "    <tr style=\"text-align: right;\">\n",
       "      <th>c4</th>\n",
       "      <th>label 0</th>\n",
       "      <th>label 1</th>\n",
       "    </tr>\n",
       "    <tr>\n",
       "      <th>cluster</th>\n",
       "      <th></th>\n",
       "      <th></th>\n",
       "    </tr>\n",
       "  </thead>\n",
       "  <tbody>\n",
       "    <tr>\n",
       "      <th>cluster 1</th>\n",
       "      <td>1700</td>\n",
       "      <td>199</td>\n",
       "    </tr>\n",
       "    <tr>\n",
       "      <th>cluster 2</th>\n",
       "      <td>41</td>\n",
       "      <td>560</td>\n",
       "    </tr>\n",
       "  </tbody>\n",
       "</table>\n",
       "</div>"
      ],
      "text/plain": [
       "c4         label 0  label 1\n",
       "cluster                    \n",
       "cluster 1     1700      199\n",
       "cluster 2       41      560"
      ]
     },
     "execution_count": 294,
     "metadata": {},
     "output_type": "execute_result"
    }
   ],
   "source": [
    "run3_c4_results = kmeans_compute(run3_c4_data, run3_c4_data_wo_label, 'c4')\n",
    "run3_c4_results"
   ]
  },
  {
   "cell_type": "markdown",
   "id": "8ff9caee-21fa-432c-83c2-5cac66e77ba7",
   "metadata": {},
   "source": [
    "## 3-4. run4_data"
   ]
  },
  {
   "cell_type": "code",
   "execution_count": 295,
   "id": "50bf821e-513a-4d57-9767-277ea5c27a7a",
   "metadata": {},
   "outputs": [],
   "source": [
    "run4_c4_data, run4_c4_data_wo_label = read_data('run4_data.csv', 'c4')"
   ]
  },
  {
   "cell_type": "code",
   "execution_count": 296,
   "id": "11ad3a35-f1fe-41e5-9491-b5ec9c699f11",
   "metadata": {},
   "outputs": [
    {
     "data": {
      "text/html": [
       "<div>\n",
       "<style scoped>\n",
       "    .dataframe tbody tr th:only-of-type {\n",
       "        vertical-align: middle;\n",
       "    }\n",
       "\n",
       "    .dataframe tbody tr th {\n",
       "        vertical-align: top;\n",
       "    }\n",
       "\n",
       "    .dataframe thead th {\n",
       "        text-align: right;\n",
       "    }\n",
       "</style>\n",
       "<table border=\"1\" class=\"dataframe\">\n",
       "  <thead>\n",
       "    <tr style=\"text-align: right;\">\n",
       "      <th>c4</th>\n",
       "      <th>label 0</th>\n",
       "      <th>label 1</th>\n",
       "    </tr>\n",
       "    <tr>\n",
       "      <th>cluster</th>\n",
       "      <th></th>\n",
       "      <th></th>\n",
       "    </tr>\n",
       "  </thead>\n",
       "  <tbody>\n",
       "    <tr>\n",
       "      <th>cluster 1</th>\n",
       "      <td>1358</td>\n",
       "      <td>633</td>\n",
       "    </tr>\n",
       "    <tr>\n",
       "      <th>cluster 2</th>\n",
       "      <td>3</td>\n",
       "      <td>506</td>\n",
       "    </tr>\n",
       "  </tbody>\n",
       "</table>\n",
       "</div>"
      ],
      "text/plain": [
       "c4         label 0  label 1\n",
       "cluster                    \n",
       "cluster 1     1358      633\n",
       "cluster 2        3      506"
      ]
     },
     "execution_count": 296,
     "metadata": {},
     "output_type": "execute_result"
    }
   ],
   "source": [
    "run4_c4_results = kmeans_compute(run4_c4_data, run4_c4_data_wo_label, 'c4')\n",
    "run4_c4_results"
   ]
  },
  {
   "cell_type": "markdown",
   "id": "3ed879b4-75b0-4d57-be70-1d4b6763c462",
   "metadata": {},
   "source": [
    "## Display bar charts for each dataset in regards to c4"
   ]
  },
  {
   "cell_type": "code",
   "execution_count": 297,
   "id": "85fbdb1c-8e0f-4347-b87a-eb837dd817a3",
   "metadata": {},
   "outputs": [
    {
     "data": {
      "image/png": "[encoded data removed]",
      "text/plain": [
       "<Figure size 1000x800 with 4 Axes>"
      ]
     },
     "metadata": {},
     "output_type": "display_data"
    }
   ],
   "source": [
    "# create a 2*2 figure for the subplots\n",
    "fig, axes= plt.subplots(2,2, figsize=(10,8))\n",
    "plot_kmeans_results(run1_c4_results, 'run1_c4', axes[0,0])\n",
    "plot_kmeans_results(run2_c4_results, 'run2_c4', axes[0,1])\n",
    "plot_kmeans_results(run3_c4_results, 'run3_c4', axes[1,0])\n",
    "plot_kmeans_results(run4_c4_results, 'run4_c4', axes[1,1])\n",
    "plt.tight_layout()\n",
    "plt.show()"
   ]
  }
 ],
 "metadata": {
  "kernelspec": {
   "display_name": "Python 3 (ipykernel)",
   "language": "python",
   "name": "python3"
  },
  "language_info": {
   "codemirror_mode": {
    "name": "ipython",
    "version": 3
   },
   "file_extension": ".py",
   "mimetype": "text/x-python",
   "name": "python",
   "nbconvert_exporter": "python",
   "pygments_lexer": "ipython3",
   "version": "3.12.4"
  }
 },
 "nbformat": 4,
 "nbformat_minor": 5
}
